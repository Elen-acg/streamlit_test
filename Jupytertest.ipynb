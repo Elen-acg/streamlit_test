{
 "cells": [
  {
   "cell_type": "code",
   "execution_count": null,
   "id": "677117ae",
   "metadata": {},
   "outputs": [],
   "source": [
    "print('this is a test')"
   ]
  }
 ],
 "metadata": {
  "language_info": {
   "name": "python"
  }
 },
 "nbformat": 4,
 "nbformat_minor": 5
}
